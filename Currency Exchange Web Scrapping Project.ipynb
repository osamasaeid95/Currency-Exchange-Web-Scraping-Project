{
 "cells": [
  {
   "cell_type": "code",
   "execution_count": 1,
   "metadata": {},
   "outputs": [],
   "source": [
    "import requests\n",
    "from bs4 import BeautifulSoup\n",
    "#Importing modules"
   ]
  },
  {
   "cell_type": "code",
   "execution_count": 2,
   "metadata": {},
   "outputs": [],
   "source": [
    "dollars_count = int(input('enter ur dollars: '))\n",
    "#Entering dollars amount\n"
   ]
  },
  {
   "cell_type": "code",
   "execution_count": 3,
   "metadata": {},
   "outputs": [],
   "source": [
    "url = \"https://www.exchangerates.org.uk/Dollars-to-Egyptian-Pounds-currency-conversion-page.html\"\n",
    "response = requests.get(url)\n",
    "#Getting data via the website"
   ]
  },
  {
   "cell_type": "code",
   "execution_count": 4,
   "metadata": {},
   "outputs": [],
   "source": [
    "soup = BeautifulSoup(response.content, 'html.parser')\n",
    "exchange_rate = float(soup.find('span', attrs={'id': 'shd2b;'}).get_text())\n",
    "#Finding the exchange rate using Beautifulsoup module"
   ]
  },
  {
   "cell_type": "code",
   "execution_count": 5,
   "metadata": {},
   "outputs": [
    {
     "name": "stdout",
     "output_type": "stream",
     "text": [
      "10 USD = 156.998 EGP\n"
     ]
    }
   ],
   "source": [
    "result = exchange_rate * dollars_count\n",
    "print(f'{dollars_count} USD = {result} EGP')\n",
    "#Calculating the needed result in EGP"
   ]
  }
 ],
 "metadata": {
  "interpreter": {
   "hash": "5b114127aa6ac952cd4648e160b0a8482bcd02781693d19627ba90f34a5bcff7"
  },
  "kernelspec": {
   "display_name": "Python 3.9.10 64-bit (windows store)",
   "language": "python",
   "name": "python3"
  },
  "language_info": {
   "codemirror_mode": {
    "name": "ipython",
    "version": 3
   },
   "file_extension": ".py",
   "mimetype": "text/x-python",
   "name": "python",
   "nbconvert_exporter": "python",
   "pygments_lexer": "ipython3",
   "version": "3.9.10"
  },
  "orig_nbformat": 4
 },
 "nbformat": 4,
 "nbformat_minor": 2
}
